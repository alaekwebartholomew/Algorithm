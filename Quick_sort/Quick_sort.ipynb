{
  "cells": [
    {
      "cell_type": "markdown",
      "metadata": {
        "id": "view-in-github",
        "colab_type": "text"
      },
      "source": [
        "<a href=\"https://colab.research.google.com/github/alaekwebartholomew/Algorithm/blob/main/Quick_sort/Quick_sort.ipynb\" target=\"_parent\"><img src=\"https://colab.research.google.com/assets/colab-badge.svg\" alt=\"Open In Colab\"/></a>"
      ]
    },
    {
      "cell_type": "code",
      "execution_count": 2,
      "metadata": {
        "id": "wJNcqAXgkch9"
      },
      "outputs": [],
      "source": [
        "def itm_swapping(lst, first_item, second_item):\n",
        "    if first_item != second_item:\n",
        "        lst[first_item], lst[second_item] = lst[second_item], arr[first_item]\n",
        "\n",
        "def partitioning(items, index, pivot):\n",
        "\n",
        "  while index + 1 < pivot:\n",
        "\n",
        "    while items[index] < items[pivot]:\n",
        "      if index >= pivot:\n",
        "        return\n",
        "      index += 1\n",
        "\n",
        "    while items[index] > items[pivot]:\n",
        "      if index > pivot:\n",
        "        return\n",
        "      index += 1\n",
        "\n",
        "    if start < end:\n",
        "      array[start], array[end] = array[end], array[start]\n",
        "\n",
        "  array[end], array[pivot] = array[pivot], array[end]\n",
        "\n",
        "  return array"
      ]
    },
    {
      "cell_type": "code",
      "source": [],
      "metadata": {
        "id": "O4_W5ob2Plaq"
      },
      "execution_count": null,
      "outputs": []
    },
    {
      "cell_type": "code",
      "source": [
        "def quick_sort(array):\n",
        "  partitioning(array)"
      ],
      "metadata": {
        "id": "wnfOKNWpnRA1"
      },
      "execution_count": null,
      "outputs": []
    },
    {
      "cell_type": "code",
      "execution_count": null,
      "metadata": {
        "id": "iskOEahVDunZ"
      },
      "outputs": [],
      "source": [
        "array = [88, 90, 70, 94, 76, 84, 72]\n",
        "quick_sort(array)"
      ]
    }
  ],
  "metadata": {
    "colab": {
      "provenance": [],
      "authorship_tag": "ABX9TyNMVQc1kEJQWQ8kW8B3bboz",
      "include_colab_link": true
    },
    "kernelspec": {
      "display_name": "Python 3",
      "name": "python3"
    },
    "language_info": {
      "name": "python"
    }
  },
  "nbformat": 4,
  "nbformat_minor": 0
}