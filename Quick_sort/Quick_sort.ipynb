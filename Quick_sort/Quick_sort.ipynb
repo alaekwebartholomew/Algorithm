{
  "nbformat": 4,
  "nbformat_minor": 0,
  "metadata": {
    "colab": {
      "provenance": [],
      "authorship_tag": "ABX9TyN7O15GvtpmEnZ/5k1Q5ywL",
      "include_colab_link": true
    },
    "kernelspec": {
      "name": "python3",
      "display_name": "Python 3"
    },
    "language_info": {
      "name": "python"
    }
  },
  "cells": [
    {
      "cell_type": "markdown",
      "metadata": {
        "id": "view-in-github",
        "colab_type": "text"
      },
      "source": [
        "<a href=\"https://colab.research.google.com/github/alaekwebartholomew/Algorithm/blob/main/Quick_sort/Quick_sort.ipynb\" target=\"_parent\"><img src=\"https://colab.research.google.com/assets/colab-badge.svg\" alt=\"Open In Colab\"/></a>"
      ]
    },
    {
      "cell_type": "code",
      "execution_count": 2,
      "metadata": {
        "id": "wJNcqAXgkch9"
      },
      "outputs": [],
      "source": [
        "def quick_sort(lst):\n",
        "  size = len(lst)\n",
        "  pivot = lst[size // 2]\n",
        "  left_pointer, right_pointer = lst[0], lst[size - 1]"
      ]
    }
  ]
}