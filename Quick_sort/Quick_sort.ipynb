{
  "cells": [
    {
      "cell_type": "markdown",
      "metadata": {
        "id": "view-in-github",
        "colab_type": "text"
      },
      "source": [
        "<a href=\"https://colab.research.google.com/github/alaekwebartholomew/Algorithm/blob/main/Quick_sort/Quick_sort.ipynb\" target=\"_parent\"><img src=\"https://colab.research.google.com/assets/colab-badge.svg\" alt=\"Open In Colab\"/></a>"
      ]
    },
    {
      "cell_type": "code",
      "execution_count": 4,
      "metadata": {
        "id": "wJNcqAXgkch9"
      },
      "outputs": [],
      "source": [
        "def partitioning(array):\n",
        "  index = 0\n",
        "  pivot = array[index]\n",
        "  start = index + 1\n",
        "  end = len(array) - 1\n",
        "\n",
        "  while start < end:\n",
        "\n",
        "    while array[start] <= pivot:\n",
        "      start += 1\n",
        "\n",
        "    while array[end] > pivot:\n",
        "      end -= 1\n",
        "\n",
        "    if start < end:\n",
        "      array[start], array[end] = array[end], array[start]\n",
        "\n",
        "  array[end], array[pivot] = array[pivot], array[end]\n",
        "\n",
        "  return array"
      ]
    },
    {
      "cell_type": "code",
      "source": [
        "def quick_sort(array):\n",
        "  partitioning(array)"
      ],
      "metadata": {
        "id": "wnfOKNWpnRA1"
      },
      "execution_count": 5,
      "outputs": []
    },
    {
      "cell_type": "code",
      "execution_count": null,
      "metadata": {
        "id": "iskOEahVDunZ"
      },
      "outputs": [],
      "source": [
        "array = [88, 90, 70, 94, 76, 84, 72]\n",
        "quick_sort(array)"
      ]
    }
  ],
  "metadata": {
    "colab": {
      "provenance": [],
      "authorship_tag": "ABX9TyNjhMJuaTlb0o0oY/FhfoWs",
      "include_colab_link": true
    },
    "kernelspec": {
      "display_name": "Python 3",
      "name": "python3"
    },
    "language_info": {
      "name": "python"
    }
  },
  "nbformat": 4,
  "nbformat_minor": 0
}