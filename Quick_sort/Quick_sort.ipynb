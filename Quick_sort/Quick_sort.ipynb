{
  "nbformat": 4,
  "nbformat_minor": 0,
  "metadata": {
    "colab": {
      "provenance": [],
      "authorship_tag": "ABX9TyO7/wCxSZsK1vNhOd2886aW",
      "include_colab_link": true
    },
    "kernelspec": {
      "name": "python3",
      "display_name": "Python 3"
    },
    "language_info": {
      "name": "python"
    }
  },
  "cells": [
    {
      "cell_type": "markdown",
      "metadata": {
        "id": "view-in-github",
        "colab_type": "text"
      },
      "source": [
        "<a href=\"https://colab.research.google.com/github/alaekwebartholomew/Algorithm/blob/main/Quick_sort/Quick_sort.ipynb\" target=\"_parent\"><img src=\"https://colab.research.google.com/assets/colab-badge.svg\" alt=\"Open In Colab\"/></a>"
      ]
    },
    {
      "cell_type": "code",
      "execution_count": 42,
      "metadata": {
        "id": "wJNcqAXgkch9"
      },
      "outputs": [],
      "source": [
        "def partitioning(array):\n",
        "  pivot_index = 0\n",
        "  pivot = array[pivot_index]\n",
        "  start = pivot_index + 1\n",
        "  end = len(array) - 1\n",
        "\n",
        "  while start < end:\n",
        "\n",
        "    while array[start] <= pivot:\n",
        "      start += 1\n",
        "\n",
        "    while array[end] > pivot:\n",
        "      end -= 1\n",
        "\n",
        "    if start < end:\n",
        "      array[start], array[end] = array[end], array[start]\n",
        "\n",
        "  array[end], array[pivot_index] = array[pivot_index], array[end]\n",
        "\n",
        "  return array"
      ]
    },
    {
      "cell_type": "code",
      "source": [
        "array = [88, 90, 70, 94, 76, 84, 72]\n",
        "partitioning(array)"
      ],
      "metadata": {
        "colab": {
          "base_uri": "https://localhost:8080/"
        },
        "id": "iskOEahVDunZ",
        "outputId": "a9c44770-b7f2-4613-a898-f71409a4a951"
      },
      "execution_count": 44,
      "outputs": [
        {
          "output_type": "execute_result",
          "data": {
            "text/plain": [
              "[76, 72, 70, 84, 88, 94, 90]"
            ]
          },
          "metadata": {},
          "execution_count": 44
        }
      ]
    }
  ]
}