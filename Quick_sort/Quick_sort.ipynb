{
  "cells": [
    {
      "cell_type": "markdown",
      "metadata": {
        "id": "view-in-github",
        "colab_type": "text"
      },
      "source": [
        "<a href=\"https://colab.research.google.com/github/alaekwebartholomew/Algorithm/blob/main/Quick_sort/Quick_sort.ipynb\" target=\"_parent\"><img src=\"https://colab.research.google.com/assets/colab-badge.svg\" alt=\"Open In Colab\"/></a>"
      ]
    },
    {
      "cell_type": "code",
      "execution_count": 4,
      "metadata": {
        "id": "wJNcqAXgkch9"
      },
      "outputs": [],
      "source": [
        "def item_swapping(lst, first_index, second_index):\n",
        "    if first_index != second_index:\n",
        "        lst[first_index], lst[second_index] = lst[second_index], lst[first_index]\n",
        "\n",
        "def partitioning(lst, index, pivot):\n",
        "\n",
        "  while index + 1 < pivot:\n",
        "\n",
        "    while lst[index] < lst[pivot]:\n",
        "      if index >= pivot:\n",
        "        return\n",
        "      index += 1\n",
        "\n",
        "    while lst[index] > lst[pivot]:\n",
        "      if index > pivot:\n",
        "        return\n",
        "      index += 1\n",
        "    if lst[index] > lst[pivot] >= lst[index]:\n",
        "      item_swapping(lst, index, index)\n",
        "    return index - 1\n",
        "\n",
        "def quick_sort(lst, first_index, last_index):\n",
        "  pivot = partitioning(lst, first_index, last_index)\n",
        "  if pivot >= 0:\n",
        "    quick_sort(lst, first_index, last_index)"
      ]
    },
    {
      "cell_type": "code",
      "execution_count": null,
      "metadata": {
        "id": "iskOEahVDunZ"
      },
      "outputs": [],
      "source": [
        "lst = [88, 90, 70, 94, 76, 84, 72]\n",
        "quick_sort(lst, 0, len(lst) - 1)\n",
        "print(lst)"
      ]
    }
  ],
  "metadata": {
    "colab": {
      "provenance": [],
      "authorship_tag": "ABX9TyOnj1i/w4F74vFrVGYsU7Vx",
      "include_colab_link": true
    },
    "kernelspec": {
      "display_name": "Python 3",
      "name": "python3"
    },
    "language_info": {
      "name": "python"
    }
  },
  "nbformat": 4,
  "nbformat_minor": 0
}