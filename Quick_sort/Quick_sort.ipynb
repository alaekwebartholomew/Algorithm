{
  "nbformat": 4,
  "nbformat_minor": 0,
  "metadata": {
    "colab": {
      "provenance": [],
      "authorship_tag": "ABX9TyMrY/vTaJbEvadVSo6X3m54",
      "include_colab_link": true
    },
    "kernelspec": {
      "name": "python3",
      "display_name": "Python 3"
    },
    "language_info": {
      "name": "python"
    }
  },
  "cells": [
    {
      "cell_type": "markdown",
      "metadata": {
        "id": "view-in-github",
        "colab_type": "text"
      },
      "source": [
        "<a href=\"https://colab.research.google.com/github/alaekwebartholomew/Algorithm/blob/main/Quick_sort/Quick_sort.ipynb\" target=\"_parent\"><img src=\"https://colab.research.google.com/assets/colab-badge.svg\" alt=\"Open In Colab\"/></a>"
      ]
    },
    {
      "cell_type": "code",
      "execution_count": 1,
      "metadata": {
        "id": "wJNcqAXgkch9"
      },
      "outputs": [],
      "source": [
        "def quick_sort(lst):\n",
        "  size = len(lst)\n",
        "  pivot = lst[mid // 2]\n",
        "  left_pointer, right_pointer = lst[0], lst[size - 1]"
      ]
    }
  ]
}